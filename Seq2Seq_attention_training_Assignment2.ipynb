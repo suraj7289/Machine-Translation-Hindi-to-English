{
  "nbformat": 4,
  "nbformat_minor": 0,
  "metadata": {
    "colab": {
      "name": "Seq2Seq_attention_training_Assignment2.ipynb",
      "provenance": [],
      "collapsed_sections": []
    },
    "kernelspec": {
      "name": "python3",
      "display_name": "Python 3"
    },
    "accelerator": "GPU"
  },
  "cells": [
    {
      "cell_type": "code",
      "metadata": {
        "id": "oU7qKb997VbA"
      },
      "source": [
        "import numpy as np\n",
        "import pandas as pd\n",
        "from sklearn.model_selection import train_test_split\n",
        "import os\n",
        "from google.colab import drive\n",
        "\n",
        "os.chdir(\"drive/My Drive/IIITH/Advanced_NLP//Assignment_2\")"
      ],
      "execution_count": 3,
      "outputs": []
    },
    {
      "cell_type": "code",
      "metadata": {
        "id": "0F_rpSRuqHeg",
        "outputId": "151e32da-23c3-43b4-862d-0725f28e68e2",
        "colab": {
          "base_uri": "https://localhost:8080/",
          "height": 34
        }
      },
      "source": [
        "from google.colab import drive\n",
        "drive.mount('/content/drive')"
      ],
      "execution_count": 2,
      "outputs": [
        {
          "output_type": "stream",
          "text": [
            "Mounted at /content/drive\n"
          ],
          "name": "stdout"
        }
      ]
    },
    {
      "cell_type": "code",
      "metadata": {
        "id": "3GA9NkkIGluo"
      },
      "source": [
        "eng_hi_Corpus = open(\"joint_Corpus.txt\",\"r\", encoding='utf-8')\n",
        "eng_hi_Corpus = eng_hi_Corpus.read().splitlines()\n",
        "df = pd.DataFrame(eng_hi_Corpus)\n",
        "X_train, X_test = train_test_split(df[0:10000], test_size=0.1, random_state=0)"
      ],
      "execution_count": 4,
      "outputs": []
    },
    {
      "cell_type": "code",
      "metadata": {
        "id": "x7XwuSMZG03L"
      },
      "source": [
        "eng_hi_train = np.array(X_train)\n",
        "eng_hi_test = np.array(X_test)\n",
        "\n",
        "### create train file for English and Hindi by splitting the text by \"!\"\n",
        "eng_Corpus_train = open(\"eng_Corpus_train.txt\",\"w\", encoding='utf-8')\n",
        "hin_Corpus_train = open(\"hin_Corpus_train.txt\",\"w\", encoding='utf-8')\n",
        "\n",
        "for i in range(eng_hi_train.shape[0]):\n",
        "    eng_Corpus_train.write(eng_hi_train[i][0].split('|')[0] + '\\n')\n",
        "    hin_Corpus_train.write(eng_hi_train[i][0].split('|')[1] + '\\n')\n",
        "  \n",
        "eng_Corpus_train.close()\n",
        "hin_Corpus_train.close() \n",
        "\n",
        "### create test file for English and Hindi by splitting the text by \"!\"\n",
        "\n",
        "eng_Corpus_test = open(\"eng_Corpus_test.txt\",\"w\", encoding='utf-8')\n",
        "hin_Corpus_test = open(\"hin_Corpus_test.txt\",\"w\", encoding='utf-8')\n",
        "\n",
        "for i in range(eng_hi_test.shape[0]):\n",
        "    eng_Corpus_test.write(eng_hi_test[i][0].split('|')[0] + '\\n')\n",
        "    hin_Corpus_test.write(eng_hi_test[i][0].split('|')[1] + '\\n')\n",
        "  \n",
        "eng_Corpus_test.close()\n",
        "hin_Corpus_test.close() "
      ],
      "execution_count": 5,
      "outputs": []
    },
    {
      "cell_type": "code",
      "metadata": {
        "id": "XMghXaAPG574"
      },
      "source": [
        "from keras.models import Model\n",
        "from keras.models import load_model,save_model\n",
        "from keras.layers import Input, LSTM, GRU, Dense, Embedding, Activation, dot, concatenate, Bidirectional, Attention\n",
        "from tensorflow.keras import activations\n",
        "from keras.preprocessing.text import Tokenizer\n",
        "from keras.optimizers import RMSprop\n",
        "from keras.callbacks import EarlyStopping\n",
        "import tensorflow_datasets as tfds\n",
        "from keras.layers.wrappers import TimeDistributed, Bidirectional\n",
        "from keras.backend import expand_dims,sum\n",
        "from keras.preprocessing.sequence import pad_sequences\n",
        "from keras.utils import to_categorical\n",
        "import numpy as np\n",
        "import nltk"
      ],
      "execution_count": 6,
      "outputs": []
    },
    {
      "cell_type": "code",
      "metadata": {
        "id": "l_aH4A9RG88l"
      },
      "source": [
        "BATCH_SIZE = 32\n",
        "LSTM_NODES =128\n",
        "NUM_SENTENCES = 9000\n",
        "MAX_NUM_WORDS = 10000\n",
        "EMBEDDING_SIZE = 100"
      ],
      "execution_count": 7,
      "outputs": []
    },
    {
      "cell_type": "code",
      "metadata": {
        "id": "rMnrWJmoHBFH",
        "outputId": "62603576-7fa7-445e-93fc-14b27ec3890b",
        "colab": {
          "base_uri": "https://localhost:8080/",
          "height": 50
        }
      },
      "source": [
        "input_sentences = []\n",
        "output_sentences = []\n",
        "output_sentences_inputs = []\n",
        "\n",
        "En_Corpus = open('eng_Corpus_train.txt','r',encoding = 'utf-8')\n",
        "cnt = 0 \n",
        "for line in En_Corpus.readlines():\n",
        "    #print(line)\n",
        "    if cnt < NUM_SENTENCES:\n",
        "      input_sentences.append(line.strip('\\n'))\n",
        "    cnt = cnt+1\n",
        "En_Corpus.close()\n",
        "\n",
        "Hi_Corpus = open('hin_Corpus_train.txt','r',encoding = 'utf-8')\n",
        "cnt = 0 \n",
        "for line in Hi_Corpus.readlines():\n",
        "  if cnt < NUM_SENTENCES:\n",
        "    output_sentences.append(line.strip('\\n') + ' <EOS>')\n",
        "    output_sentences_inputs.append('<SOS> '+line.strip('\\n') )\n",
        "  cnt = cnt +1\n",
        "Hi_Corpus.close()\n",
        "\n",
        "print(\"num samples input:\", len(input_sentences))\n",
        "print(\"num samples output:\", len(output_sentences))"
      ],
      "execution_count": 8,
      "outputs": [
        {
          "output_type": "stream",
          "text": [
            "num samples input: 9000\n",
            "num samples output: 9000\n"
          ],
          "name": "stdout"
        }
      ]
    },
    {
      "cell_type": "code",
      "metadata": {
        "id": "PHvu1FGnHGtw",
        "outputId": "fe49e105-e004-4ad2-a617-11db7aff6918",
        "colab": {
          "base_uri": "https://localhost:8080/",
          "height": 50
        }
      },
      "source": [
        "input_tokenizer = Tokenizer(filters='')\n",
        "input_tokenizer.fit_on_texts(input_sentences)\n",
        "input_integer_seq = input_tokenizer.texts_to_sequences(input_sentences)\n",
        "\n",
        "word2idx_inputs = input_tokenizer.word_index\n",
        "print('Total unique words in the input: %s' % len(word2idx_inputs))\n",
        "\n",
        "max_input_len = max(len(sen) for sen in input_integer_seq)\n",
        "print(\"Length of longest sentence in input: %g\" % max_input_len)\n",
        "num_words_input = len(word2idx_inputs) + 1"
      ],
      "execution_count": 9,
      "outputs": [
        {
          "output_type": "stream",
          "text": [
            "Total unique words in the input: 8219\n",
            "Length of longest sentence in input: 5\n"
          ],
          "name": "stdout"
        }
      ]
    },
    {
      "cell_type": "code",
      "metadata": {
        "id": "m29j4lkbHKeJ",
        "outputId": "840722b3-b713-468e-ba3b-97da91871998",
        "colab": {
          "base_uri": "https://localhost:8080/",
          "height": 50
        }
      },
      "source": [
        "output_tokenizer = Tokenizer(filters='')\n",
        "output_tokenizer.fit_on_texts(output_sentences + output_sentences_inputs)\n",
        "output_integer_seq = output_tokenizer.texts_to_sequences(output_sentences)\n",
        "output_input_integer_seq = output_tokenizer.texts_to_sequences(output_sentences)\n",
        "\n",
        "word2idx_outputs = output_tokenizer.word_index\n",
        "print('Total unique words in the output: %s' % len(word2idx_outputs))\n",
        "\n",
        "num_words_output = len(word2idx_outputs) + 1\n",
        "max_out_len = max(len(sen) for sen in output_integer_seq)\n",
        "print(\"Length of longest sentence in the output: %g\" % max_out_len)"
      ],
      "execution_count": 10,
      "outputs": [
        {
          "output_type": "stream",
          "text": [
            "Total unique words in the output: 8270\n",
            "Length of longest sentence in the output: 29\n"
          ],
          "name": "stdout"
        }
      ]
    },
    {
      "cell_type": "code",
      "metadata": {
        "id": "uLtWFyfiHNh_"
      },
      "source": [
        "input_text = input_sentences\n",
        "target_text_input = output_sentences_inputs\n",
        "target_text_output = output_sentences\n",
        "\n",
        "input_integer_seq = input_tokenizer.texts_to_sequences(input_text)\n",
        "encoder_input_sequences = pad_sequences(input_integer_seq, maxlen=max_input_len)\n",
        "         \n",
        "output_input_integer_seq = output_tokenizer.texts_to_sequences(target_text_input)\n",
        "decoder_input_sequences = pad_sequences(output_input_integer_seq, maxlen=max_out_len, padding='post')\n",
        "          \n",
        "output_integer_seq = output_tokenizer.texts_to_sequences(target_text_output)\n",
        "decoder_output_sequences = pad_sequences(output_integer_seq, maxlen=max_out_len, padding='post')\n",
        "          \n",
        "decoder_targets_one_hot = np.zeros((len(input_sentences),max_out_len,num_words_output),dtype='float32')\n",
        "\n",
        "#print('decoder_targets_one_hot ',decoder_targets_one_hot.shape)\n",
        "\n",
        "\n",
        "for i, d in enumerate(decoder_output_sequences):\n",
        "  for t, word in enumerate(d):\n",
        "    decoder_targets_one_hot[i, t, word] = 1\n",
        "          "
      ],
      "execution_count": 11,
      "outputs": []
    },
    {
      "cell_type": "code",
      "metadata": {
        "id": "1BOpmpIHHRva",
        "outputId": "c51b358c-066c-4092-c0ac-c29e990c13f2",
        "colab": {
          "base_uri": "https://localhost:8080/",
          "height": 50
        }
      },
      "source": [
        "encoder_inputs_placeholder = Input(shape=(max_input_len,))\n",
        "encoder_embedding = Embedding(num_words_input, LSTM_NODES)\n",
        "\n",
        "x = encoder_embedding(encoder_inputs_placeholder)\n",
        "encoder_biLSTM = Bidirectional(LSTM(LSTM_NODES, return_sequences = True, return_state=True),merge_mode= 'concat')\n",
        "\n",
        "encoder_outputs, h_forward, c_forward,h_backward,c_backward = encoder_biLSTM(x)\n",
        "\n",
        "encoder_h = concatenate([h_forward,h_backward],axis = 1)\n",
        "encoder_c = concatenate([c_forward,c_backward],axis = 1)\n",
        "print(encoder_h.shape)\n",
        "encoder_states = [encoder_h, encoder_c]\n",
        "print('encoder_outputs shape:',encoder_outputs.shape)"
      ],
      "execution_count": 12,
      "outputs": [
        {
          "output_type": "stream",
          "text": [
            "(None, 256)\n",
            "encoder_outputs shape: (None, 5, 256)\n"
          ],
          "name": "stdout"
        }
      ]
    },
    {
      "cell_type": "code",
      "metadata": {
        "id": "vukex-E2MwJh",
        "outputId": "2d2a5b8b-537b-46c9-a95f-c424c79677a0",
        "colab": {
          "base_uri": "https://localhost:8080/",
          "height": 50
        }
      },
      "source": [
        "decoder_inputs_placeholder = Input(shape=(max_out_len,))\n",
        "\n",
        "decoder_embedding = Embedding(num_words_output, LSTM_NODES)\n",
        "decoder_inputs_x = decoder_embedding(decoder_inputs_placeholder)\n",
        "\n",
        "decoder_lstm = LSTM(LSTM_NODES*2, return_sequences=True, return_state=True)\n",
        "\n",
        "decoder_outputs, decoder_states_h, decoder_states_c = decoder_lstm(decoder_inputs_x,initial_state=encoder_states)\n",
        "\n",
        "decoder_states = [decoder_states_h,decoder_states_c]\n",
        "print('decoder outputs shape:',decoder_outputs.shape)\n",
        "print('decoder_states_h shape:',decoder_states_h.shape)\n",
        "\n"
      ],
      "execution_count": 13,
      "outputs": [
        {
          "output_type": "stream",
          "text": [
            "decoder outputs shape: (None, 29, 256)\n",
            "decoder_states_h shape: (None, 256)\n"
          ],
          "name": "stdout"
        }
      ]
    },
    {
      "cell_type": "code",
      "metadata": {
        "id": "ktwpDZuVOeVX"
      },
      "source": [
        "#Luong Attention Layer\n",
        "#attention = dot([decoder_outputs, encoder_outputs], axes=[2, 2])\n",
        "#print('attention shape:',attention.shape)\n",
        "#attention = Activation('softmax')(attention)\n",
        "#context = dot([attention, encoder_outputs], axes=[2,1])\n",
        "#print('context shape:',context.shape)\n",
        "#print('decoder_outputs:',decoder_outputs.shape)\n",
        "#decoder_combined_context = concatenate([context, decoder_outputs])\n",
        "#print('decoder_combined_context:',decoder_combined_context.shape)\n",
        "\n",
        "#Bahdanau attention\n",
        "from tensorflow.keras import activations\n",
        "w1 = Dense(10)\n",
        "w2 = Dense(10)\n",
        "v =  Dense(1)\n",
        "\n",
        "#decoder_h_timeaxis = expand_dims(decoder_states_h,1)\n",
        "encoder_h_timeaxis = expand_dims(encoder_h,1)\n",
        "\n",
        "score = v(activations.tanh(w1(encoder_h_timeaxis) + (w2(encoder_outputs)) ))\n",
        "attention_softmax = activations.softmax(score,axis=1)\n",
        "context = attention_softmax * encoder_outputs\n",
        "context_vector = sum(context,axis=1)\n",
        "context_vector_timeaxis = expand_dims(context_vector,1)\n",
        "decoder_combined_context = context_vector_timeaxis + decoder_outputs\n",
        "\n",
        "decoder_dense = Dense(num_words_output, activation='softmax')\n",
        "decoder_outputs = decoder_dense(decoder_combined_context)\n",
        "\n",
        "\n",
        "model = Model([encoder_inputs_placeholder,\n",
        "  decoder_inputs_placeholder], decoder_outputs)\n",
        "\n",
        "opt = RMSprop(learning_rate=0.001)\n",
        "model.compile(\n",
        "    optimizer = opt,\n",
        "    loss='categorical_crossentropy',\n",
        "    metrics=['accuracy']\n",
        ")"
      ],
      "execution_count": 14,
      "outputs": []
    },
    {
      "cell_type": "code",
      "metadata": {
        "id": "i9nySc6ZHO9p",
        "outputId": "ae403efb-2ddb-49bd-de50-9c681791395b",
        "colab": {
          "base_uri": "https://localhost:8080/",
          "height": 1000
        }
      },
      "source": [
        "model.summary()"
      ],
      "execution_count": 15,
      "outputs": [
        {
          "output_type": "stream",
          "text": [
            "Model: \"functional_1\"\n",
            "__________________________________________________________________________________________________\n",
            "Layer (type)                    Output Shape         Param #     Connected to                     \n",
            "==================================================================================================\n",
            "input_1 (InputLayer)            [(None, 5)]          0                                            \n",
            "__________________________________________________________________________________________________\n",
            "embedding (Embedding)           (None, 5, 128)       1052160     input_1[0][0]                    \n",
            "__________________________________________________________________________________________________\n",
            "bidirectional (Bidirectional)   [(None, 5, 256), (No 263168      embedding[0][0]                  \n",
            "__________________________________________________________________________________________________\n",
            "concatenate (Concatenate)       (None, 256)          0           bidirectional[0][1]              \n",
            "                                                                 bidirectional[0][3]              \n",
            "__________________________________________________________________________________________________\n",
            "tf_op_layer_ExpandDims (TensorF [(None, 1, 256)]     0           concatenate[0][0]                \n",
            "__________________________________________________________________________________________________\n",
            "dense (Dense)                   (None, 1, 10)        2570        tf_op_layer_ExpandDims[0][0]     \n",
            "__________________________________________________________________________________________________\n",
            "dense_1 (Dense)                 (None, 5, 10)        2570        bidirectional[0][0]              \n",
            "__________________________________________________________________________________________________\n",
            "tf_op_layer_AddV2 (TensorFlowOp [(None, 5, 10)]      0           dense[0][0]                      \n",
            "                                                                 dense_1[0][0]                    \n",
            "__________________________________________________________________________________________________\n",
            "tf_op_layer_Tanh (TensorFlowOpL [(None, 5, 10)]      0           tf_op_layer_AddV2[0][0]          \n",
            "__________________________________________________________________________________________________\n",
            "dense_2 (Dense)                 (None, 5, 1)         11          tf_op_layer_Tanh[0][0]           \n",
            "__________________________________________________________________________________________________\n",
            "tf_op_layer_Max (TensorFlowOpLa [(None, 1, 1)]       0           dense_2[0][0]                    \n",
            "__________________________________________________________________________________________________\n",
            "tf_op_layer_Sub (TensorFlowOpLa [(None, 5, 1)]       0           dense_2[0][0]                    \n",
            "                                                                 tf_op_layer_Max[0][0]            \n",
            "__________________________________________________________________________________________________\n",
            "tf_op_layer_Exp (TensorFlowOpLa [(None, 5, 1)]       0           tf_op_layer_Sub[0][0]            \n",
            "__________________________________________________________________________________________________\n",
            "tf_op_layer_Sum (TensorFlowOpLa [(None, 1, 1)]       0           tf_op_layer_Exp[0][0]            \n",
            "__________________________________________________________________________________________________\n",
            "tf_op_layer_RealDiv (TensorFlow [(None, 5, 1)]       0           tf_op_layer_Exp[0][0]            \n",
            "                                                                 tf_op_layer_Sum[0][0]            \n",
            "__________________________________________________________________________________________________\n",
            "tf_op_layer_Mul (TensorFlowOpLa [(None, 5, 256)]     0           tf_op_layer_RealDiv[0][0]        \n",
            "                                                                 bidirectional[0][0]              \n",
            "__________________________________________________________________________________________________\n",
            "input_2 (InputLayer)            [(None, 29)]         0                                            \n",
            "__________________________________________________________________________________________________\n",
            "tf_op_layer_Sum_1 (TensorFlowOp [(None, 256)]        0           tf_op_layer_Mul[0][0]            \n",
            "__________________________________________________________________________________________________\n",
            "embedding_1 (Embedding)         (None, 29, 128)      1058688     input_2[0][0]                    \n",
            "__________________________________________________________________________________________________\n",
            "concatenate_1 (Concatenate)     (None, 256)          0           bidirectional[0][2]              \n",
            "                                                                 bidirectional[0][4]              \n",
            "__________________________________________________________________________________________________\n",
            "tf_op_layer_ExpandDims_1 (Tenso [(None, 1, 256)]     0           tf_op_layer_Sum_1[0][0]          \n",
            "__________________________________________________________________________________________________\n",
            "lstm_1 (LSTM)                   [(None, 29, 256), (N 394240      embedding_1[0][0]                \n",
            "                                                                 concatenate[0][0]                \n",
            "                                                                 concatenate_1[0][0]              \n",
            "__________________________________________________________________________________________________\n",
            "tf_op_layer_AddV2_1 (TensorFlow [(None, 29, 256)]    0           tf_op_layer_ExpandDims_1[0][0]   \n",
            "                                                                 lstm_1[0][0]                     \n",
            "__________________________________________________________________________________________________\n",
            "dense_3 (Dense)                 (None, 29, 8271)     2125647     tf_op_layer_AddV2_1[0][0]        \n",
            "==================================================================================================\n",
            "Total params: 4,899,054\n",
            "Trainable params: 4,899,054\n",
            "Non-trainable params: 0\n",
            "__________________________________________________________________________________________________\n"
          ],
          "name": "stdout"
        }
      ]
    },
    {
      "cell_type": "code",
      "metadata": {
        "id": "LtZaEI_xQUZe",
        "outputId": "edf57be7-2a20-4bce-daf5-b07c7071bde9",
        "colab": {
          "base_uri": "https://localhost:8080/",
          "height": 588
        }
      },
      "source": [
        "callback = EarlyStopping(monitor='val_loss', patience=3)\n",
        "\n",
        "r = model.fit([encoder_input_sequences, decoder_input_sequences],decoder_targets_one_hot,\n",
        "              epochs=50,\n",
        "              validation_split=0.1,\n",
        "              callbacks=[callback])"
      ],
      "execution_count": 16,
      "outputs": [
        {
          "output_type": "stream",
          "text": [
            "Epoch 1/50\n",
            "254/254 [==============================] - 18s 69ms/step - loss: 1.5099 - accuracy: 0.8075 - val_loss: 1.2588 - val_accuracy: 0.8248\n",
            "Epoch 2/50\n",
            "254/254 [==============================] - 16s 62ms/step - loss: 1.1948 - accuracy: 0.8275 - val_loss: 1.1941 - val_accuracy: 0.8327\n",
            "Epoch 3/50\n",
            "254/254 [==============================] - 16s 62ms/step - loss: 1.1182 - accuracy: 0.8370 - val_loss: 1.1471 - val_accuracy: 0.8415\n",
            "Epoch 4/50\n",
            "254/254 [==============================] - 16s 62ms/step - loss: 1.0558 - accuracy: 0.8457 - val_loss: 1.1078 - val_accuracy: 0.8464\n",
            "Epoch 5/50\n",
            "254/254 [==============================] - 16s 61ms/step - loss: 1.0040 - accuracy: 0.8521 - val_loss: 1.0890 - val_accuracy: 0.8506\n",
            "Epoch 6/50\n",
            "254/254 [==============================] - 16s 61ms/step - loss: 0.9595 - accuracy: 0.8575 - val_loss: 1.0693 - val_accuracy: 0.8540\n",
            "Epoch 7/50\n",
            "254/254 [==============================] - 16s 62ms/step - loss: 0.9208 - accuracy: 0.8625 - val_loss: 1.0615 - val_accuracy: 0.8567\n",
            "Epoch 8/50\n",
            "254/254 [==============================] - 16s 62ms/step - loss: 0.8848 - accuracy: 0.8667 - val_loss: 1.0546 - val_accuracy: 0.8583\n",
            "Epoch 9/50\n",
            "254/254 [==============================] - 16s 61ms/step - loss: 0.8503 - accuracy: 0.8708 - val_loss: 1.0519 - val_accuracy: 0.8587\n",
            "Epoch 10/50\n",
            "254/254 [==============================] - 16s 61ms/step - loss: 0.8186 - accuracy: 0.8745 - val_loss: 1.0466 - val_accuracy: 0.8587\n",
            "Epoch 11/50\n",
            "254/254 [==============================] - 16s 61ms/step - loss: 0.7877 - accuracy: 0.8783 - val_loss: 1.0428 - val_accuracy: 0.8601\n",
            "Epoch 12/50\n",
            "254/254 [==============================] - 16s 61ms/step - loss: 0.7590 - accuracy: 0.8822 - val_loss: 1.0539 - val_accuracy: 0.8615\n",
            "Epoch 13/50\n",
            "254/254 [==============================] - 16s 61ms/step - loss: 0.7314 - accuracy: 0.8864 - val_loss: 1.0432 - val_accuracy: 0.8604\n",
            "Epoch 14/50\n",
            "254/254 [==============================] - 16s 61ms/step - loss: 0.7054 - accuracy: 0.8905 - val_loss: 1.0405 - val_accuracy: 0.8613\n",
            "Epoch 15/50\n",
            "254/254 [==============================] - 16s 61ms/step - loss: 0.6816 - accuracy: 0.8943 - val_loss: 1.0461 - val_accuracy: 0.8604\n",
            "Epoch 16/50\n",
            "254/254 [==============================] - 16s 61ms/step - loss: 0.6588 - accuracy: 0.8982 - val_loss: 1.0485 - val_accuracy: 0.8602\n",
            "Epoch 17/50\n",
            "254/254 [==============================] - 15s 61ms/step - loss: 0.6384 - accuracy: 0.9019 - val_loss: 1.0458 - val_accuracy: 0.8609\n"
          ],
          "name": "stdout"
        }
      ]
    },
    {
      "cell_type": "code",
      "metadata": {
        "id": "euW2C7H2tDsz"
      },
      "source": [
        "train_loss = r.history['loss']\n",
        "val_loss   = r.history['val_loss']\n",
        "xc         = range(20)"
      ],
      "execution_count": 20,
      "outputs": []
    },
    {
      "cell_type": "code",
      "metadata": {
        "id": "bH6sGqx9tcJt",
        "outputId": "e50c6a35-6b64-4a6f-eedd-53c32e3cd70f",
        "colab": {
          "base_uri": "https://localhost:8080/",
          "height": 298
        }
      },
      "source": [
        "import matplotlib.pyplot as plt\n",
        "plt.title('Attention Model - Loss vs Epoch')\n",
        "plt.plot(train_loss,label= 'Train Loss')\n",
        "plt.plot(val_loss, label = 'Validation Loss')\n",
        "plt.legend(loc=\"upper right\")"
      ],
      "execution_count": 26,
      "outputs": [
        {
          "output_type": "execute_result",
          "data": {
            "text/plain": [
              "<matplotlib.legend.Legend at 0x7f3212ed1b00>"
            ]
          },
          "metadata": {
            "tags": []
          },
          "execution_count": 26
        },
        {
          "output_type": "display_data",
          "data": {
            "image/png": "[encoded data removed]",
            "text/plain": [
              "<Figure size 432x288 with 1 Axes>"
            ]
          },
          "metadata": {
            "tags": [],
            "needs_background": "light"
          }
        }
      ]
    },
    {
      "cell_type": "code",
      "metadata": {
        "id": "HksDS5AjQwuz"
      },
      "source": [
        "model.save('Seq2Seq_attentionB_assignment2_v1.h5')"
      ],
      "execution_count": 17,
      "outputs": []
    }
  ]
}